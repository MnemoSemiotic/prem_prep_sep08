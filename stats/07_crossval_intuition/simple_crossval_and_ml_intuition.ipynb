{
 "cells": [
  {
   "cell_type": "code",
   "execution_count": 1,
   "metadata": {},
   "outputs": [],
   "source": [
    "import warnings\n",
    "warnings.filterwarnings('ignore')"
   ]
  },
  {
   "cell_type": "markdown",
   "metadata": {},
   "source": [
    "![xkcd curve fitting](images/xkcd_curve_fitting.png)"
   ]
  },
  {
   "cell_type": "markdown",
   "metadata": {},
   "source": [
    "# Let's consider a scatterplot\n",
    "* at differing levels of complexity\n",
    "    * complexity can refer to number of features, width of a matrix, etc\n",
    "    * complexity here just means order of a polynomial\n",
    "    \n",
    "$$\n",
    "f(x) = ax^4 + bx^3 + cx^2 + dx + C\n",
    "$$\n",
    "\n",
    "    "
   ]
  },
  {
   "cell_type": "code",
   "execution_count": 54,
   "metadata": {},
   "outputs": [
    {
     "data": {
      "image/png": "[encoded data removed]",
      "text/plain": [
       "<Figure size 432x288 with 1 Axes>"
      ]
     },
     "metadata": {
      "needs_background": "light"
     },
     "output_type": "display_data"
    }
   ],
   "source": [
    "import numpy as np\n",
    "import matplotlib.pyplot as plt\n",
    "\n",
    "def plot_scatter_fit(num_samps=50, fit_complexity=1, degree=1):\n",
    "    N = num_samps\n",
    "    np.random.seed(seed=23)\n",
    "    \n",
    "    # gen rand x values\n",
    "    x = np.random.rand(N)*20\n",
    "    \n",
    "    \n",
    "    # define polynomial\n",
    "    if degree == 1:\n",
    "        y = 5*x + 3\n",
    "    if degree == 2:\n",
    "        y = 3*x**2 + 5*x + 3\n",
    "    if degree == 3:\n",
    "        y = -0.2*x**3 + 3*x**2 + 5*x + 3\n",
    "    if degree == 4:\n",
    "        y = 0.006*x**4 + -0.2*x**3 + 3*x**2 + 5*x + 3\n",
    "        \n",
    "    \n",
    "    # help us draw a fit line\n",
    "    fit = np.polyfit(x, y, 1)\n",
    "    fit_fn = np.poly1d(fit)\n",
    "    \n",
    "    \n",
    "    # get scatter range\n",
    "    y_val_range = np.ptp(y)\n",
    "    \n",
    "    \n",
    "    # add gaussian noise\n",
    "    y = [pt + np.random.normal(loc=0.0, scale=((1./10.)*y_val_range))\n",
    "         for pt in y]\n",
    "    \n",
    "    \n",
    "    # line that we draw\n",
    "    fit_complexity_ = fit_complexity\n",
    "    regr = np.poly1d(np.polyfit(x, y, fit_complexity_))(np.unique(x))\n",
    "    \n",
    "    \n",
    "    # plot\n",
    "    plt.title('N: {} \\n'.format(N) + \\\n",
    "              'data_degree: {} \\n'.format(degree) + \\\n",
    "              'fit_complexity: {}'.format(fit_complexity))\n",
    "\n",
    "    plt.scatter(x, y, c='y', alpha=0.5)\n",
    "    plt.plot(np.unique(x), regr)\n",
    "    \n",
    "    plt.show\n",
    "    \n",
    "plot_scatter_fit(num_samps=150, fit_complexity=3, degree=3)"
   ]
  },
  {
   "cell_type": "markdown",
   "metadata": {},
   "source": [
    "<br><br>\n",
    "\n",
    "# Apply CrossVal to a Classification Problem\n",
    "* Using the Iris Dataset, built into sklearn"
   ]
  },
  {
   "cell_type": "code",
   "execution_count": null,
   "metadata": {},
   "outputs": [],
   "source": []
  },
  {
   "cell_type": "code",
   "execution_count": null,
   "metadata": {},
   "outputs": [],
   "source": []
  },
  {
   "cell_type": "code",
   "execution_count": null,
   "metadata": {},
   "outputs": [],
   "source": []
  },
  {
   "cell_type": "code",
   "execution_count": null,
   "metadata": {},
   "outputs": [],
   "source": []
  }
 ],
 "metadata": {
  "kernelspec": {
   "display_name": "Python 3",
   "language": "python",
   "name": "python3"
  },
  "language_info": {
   "codemirror_mode": {
    "name": "ipython",
    "version": 3
   },
   "file_extension": ".py",
   "mimetype": "text/x-python",
   "name": "python",
   "nbconvert_exporter": "python",
   "pygments_lexer": "ipython3",
   "version": "3.8.3"
  }
 },
 "nbformat": 4,
 "nbformat_minor": 4
}
